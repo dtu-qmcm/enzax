{
 "cells": [
  {
   "cell_type": "markdown",
   "metadata": {},
   "source": [
    "## LibSBML"
   ]
  },
  {
   "cell_type": "code",
   "execution_count": 1,
   "metadata": {},
   "outputs": [],
   "source": [
    "import libsbml as sbml\n",
    "import jax\n",
    "import jax.numpy as jnp\n",
    "from jax import tree\n",
    "import diffrax"
   ]
  },
  {
   "cell_type": "code",
   "execution_count": 3,
   "metadata": {},
   "outputs": [],
   "source": [
    "reader = sbml.SBMLReader()"
   ]
  },
  {
   "cell_type": "code",
   "execution_count": null,
   "metadata": {},
   "outputs": [
    {
     "data": {
      "text/plain": [
       "0"
      ]
     },
     "execution_count": 15,
     "metadata": {},
     "output_type": "execute_result"
    }
   ],
   "source": [
    "doc = reader.readSBMLFromFile(\"M:/enzax_clone/src/enzax/examples/exampleode.xml\")\n",
    "doc.getNumErrors()"
   ]
  },
  {
   "cell_type": "code",
   "execution_count": 17,
   "metadata": {},
   "outputs": [
    {
     "data": {
      "text/plain": [
       "0"
      ]
     },
     "execution_count": 17,
     "metadata": {},
     "output_type": "execute_result"
    }
   ],
   "source": [
    "doc = reader.readSBMLFromFile(\"M:/enzax_clone/src/enzax/examples/brusselator.xml\")\n",
    "doc.getNumErrors()"
   ]
  },
  {
   "cell_type": "code",
   "execution_count": 18,
   "metadata": {},
   "outputs": [
    {
     "data": {
      "text/plain": [
       "6"
      ]
     },
     "execution_count": 18,
     "metadata": {},
     "output_type": "execute_result"
    }
   ],
   "source": [
    "Model_lib = doc.getModel()\n",
    "Model_lib.getNumSpecies()"
   ]
  },
  {
   "cell_type": "code",
   "execution_count": 8,
   "metadata": {},
   "outputs": [
    {
     "data": {
      "text/plain": [
       "<Reaction r1 \"r1\">"
      ]
     },
     "execution_count": 8,
     "metadata": {},
     "output_type": "execute_result"
    }
   ],
   "source": [
    "Model_lib.reactions[0]"
   ]
  },
  {
   "cell_type": "code",
   "execution_count": 9,
   "metadata": {},
   "outputs": [
    {
     "data": {
      "text/plain": [
       "<ListOfRules[0]>"
      ]
     },
     "execution_count": 9,
     "metadata": {},
     "output_type": "execute_result"
    }
   ],
   "source": [
    "Model_lib.getListOfRules()"
   ]
  },
  {
   "cell_type": "code",
   "execution_count": 10,
   "metadata": {},
   "outputs": [],
   "source": [
    "r = Model_lib.getListOfReactions()[0]"
   ]
  },
  {
   "cell_type": "code",
   "execution_count": 11,
   "metadata": {},
   "outputs": [],
   "source": [
    "law0 = Model_lib.getListOfFunctionDefinitions()[0]"
   ]
  },
  {
   "cell_type": "code",
   "execution_count": 13,
   "metadata": {},
   "outputs": [
    {
     "data": {
      "text/plain": [
       "'Cytosol * (E10 * Kcat * (A / Kms - B / Kms / Keq) * 1 / (1 + A / Kms + B / Kmp + D / Ki))'"
      ]
     },
     "execution_count": 13,
     "metadata": {},
     "output_type": "execute_result"
    }
   ],
   "source": [
    "if doc.getModel().getNumFunctionDefinitions():\n",
    "    convert_config = (sbml.SBMLFunctionDefinitionConverter().getDefaultProperties())\n",
    "    doc.convert(convert_config)\n",
    "\n",
    "model_new = doc.getModel()\n",
    "r_law01 = model_new.getListOfReactions()[0].getKineticLaw()\n",
    "sbml.formulaToL3String(r_law01.getMath())"
   ]
  },
  {
   "cell_type": "markdown",
   "metadata": {},
   "source": [
    "# Function\n",
    "Things to be fixed:  \n",
    "It simulates all species not only balanced_species.  \n",
    "It can't handle \"X^2\" in \"brusselator.xml\" "
   ]
  },
  {
   "cell_type": "code",
   "execution_count": 20,
   "metadata": {},
   "outputs": [],
   "source": [
    "import libsbml as sbml\n",
    "import jax\n",
    "import jax.numpy as jnp\n",
    "from jax import tree\n",
    "import diffrax\n",
    "\n",
    "jax.config.update(\"jax_enable_x64\", True)"
   ]
  },
  {
   "cell_type": "code",
   "execution_count": null,
   "metadata": {},
   "outputs": [],
   "source": [
    "# Load and parse the SBML model\n",
    "def load_sbml_model(file_path):\n",
    "    reader = sbml.SBMLReader()\n",
    "    doc = reader.readSBML(file_path)\n",
    "    if doc.getModel().getNumFunctionDefinitions():\n",
    "        convert_config = sbml.SBMLFunctionDefinitionConverter().getDefaultProperties()\n",
    "        doc.convert(convert_config)\n",
    "    model = doc.getModel()\n",
    "    if model is None:\n",
    "        raise ValueError(\"Failed to load the SBML model\")\n",
    "    return model\n",
    "\n",
    "# Extract species, reactions and parameters\n",
    "def extract_model_info(model):\n",
    "    species = [s.getId() for s in model.getListOfSpecies()]\n",
    "    compartments ={c.getId(): c.volume for c in model.getListOfCompartments()}\n",
    "    \n",
    "    balanced_ix =  []\n",
    "    balanced_species = []\n",
    "    unbalanced_ix = []\n",
    "    unbalanced_species = []\n",
    "    for i in range(0, model.getNumSpecies()):\n",
    "        if model.getListOfSpecies()[i].boundary_condition == False:\n",
    "            balanced_ix.append(i)\n",
    "            balanced_species.append(model.getListOfSpecies()[i].getId())\n",
    "        else:\n",
    "            unbalanced_ix.append(i)\n",
    "            unbalanced_species.append(model.getListOfSpecies()[i].getId())\n",
    "    \n",
    "    # Stoichiometric matrix for all species, also enzymes. \n",
    "    stoichmatrix  = jnp.zeros((model.getNumReactions(), model.getNumSpecies(), model.getNumReactions()), dtype=int)\n",
    "    i = 0 \n",
    "    for reaction in model.getListOfReactions():\n",
    "        for r in reaction.getListOfReactants():\n",
    "            stoichmatrix = stoichmatrix.at[species.index(r.getSpecies()), i].set(-int(r.getStoichiometry()))\n",
    "        for p in reaction.getListOfProducts():\n",
    "            stoichmatrix = stoichmatrix.at[species.index(p.getSpecies()), i].set(int(p.getStoichiometry()))\n",
    "        i+=1\n",
    "\n",
    "    reactions = []\n",
    "    for reaction in model.getListOfReactions():\n",
    "        kinetic_law = reaction.getKineticLaw()\n",
    "        rate = sbml.formulaToL3String(kinetic_law.getMath())\n",
    "        reactants = [(r.getSpecies(), int(r.getStoichiometry())) for r in reaction.getListOfReactants()]\n",
    "        products = [(p.getSpecies(), int(p.getStoichiometry())) for p in reaction.getListOfProducts()]\n",
    "        parameters = {p.getId(): p.getValue() for p in kinetic_law.getListOfParameters()}\n",
    "        reactions.append({'rate': rate, 'reactants': reactants, 'products': products, 'parameters': parameters})\n",
    "    return species, compartments, balanced_species, unbalanced_species, stoichmatrix, reactions\n",
    "\n",
    "# Define the ODE system for diffrax\n",
    "def ode_system(t, y, args):\n",
    "    species, compartments, balanced_species, unbalanced_species, stoichmatrix, reactions = args\n",
    "    dydt = list(tuple(0. for _ in range(len(species))))\n",
    "\n",
    "    # Evaluate the rate laws for each reaction. For now all species are evaluated, not only balanced species. \n",
    "    for reaction in reactions:\n",
    "        rate = eval(reaction['rate'], {**reaction['parameters'], **compartments, **dict(zip(species, y))})\n",
    "        for reactant, stoich in reaction['reactants']:\n",
    "            dydt[species.index(reactant)] -= stoich * rate\n",
    "        for product, stoich in reaction['products']:\n",
    "            dydt[species.index(product)] += stoich * rate\n",
    "\n",
    "    return dydt\n",
    "\n",
    "# Main function to run the simulation\n",
    "def run_simulation(model, initial_conditions, t0, t1, dt):\n",
    "    species, compartments, balanced_species, unbalanced_species, stoichmatrix, reactions = extract_model_info(model)\n",
    "    ode_func = diffrax.ODETerm(ode_system)\n",
    "    \n",
    "    solver = diffrax.Tsit5() \n",
    "    sol = diffrax.diffeqsolve(\n",
    "        ode_func,\n",
    "        solver=solver,\n",
    "        t0=t0,\n",
    "        t1=t1,\n",
    "        dt0=dt,\n",
    "        y0=initial_conditions,\n",
    "        args=(species, compartments, balanced_species, unbalanced_species, stoichmatrix, reactions),\n",
    "        saveat = diffrax.SaveAt(ts=jnp.linspace(t0, t1, 100)) # saves 100 timesteps \n",
    "    )\n",
    "    return sol\n"
   ]
  },
  {
   "cell_type": "code",
   "execution_count": 4,
   "metadata": {},
   "outputs": [],
   "source": [
    "# Load the model and run the simulation\n",
    "model = load_sbml_model(\"M:/enzax_clone/src/enzax/examples/exampleode.xml\") # Path on my computer. Need to be fixed\n",
    "\n",
    "initial_conditions = [s.getInitialConcentration() for s in model.getListOfSpecies()]\n",
    "\n",
    "t0, t1, dt = 0, 15, 0.1  # Example time settings\n",
    "\n",
    "solution = run_simulation(model, initial_conditions, t0, t1, dt)\n"
   ]
  },
  {
   "cell_type": "code",
   "execution_count": 5,
   "metadata": {},
   "outputs": [
    {
     "data": {
      "image/png": "[encoded data removed]",
      "text/plain": [
       "<Figure size 640x480 with 1 Axes>"
      ]
     },
     "metadata": {},
     "output_type": "display_data"
    }
   ],
   "source": [
    "# Plot or print the results\n",
    "import matplotlib.pyplot as plt\n",
    "time_points = solution.ts\n",
    "species_values = solution.ys\n",
    "\n",
    "for i, species_name in enumerate([s.getId() for s in model.getListOfSpecies()]):\n",
    "    plt.plot(time_points, species_values[i], label=species_name)\n",
    "\n",
    "plt.xlabel('Time')\n",
    "plt.ylabel('Concentration')\n",
    "plt.ylim([-1,10])\n",
    "plt.legend()\n",
    "plt.show()\n"
   ]
  }
 ],
 "metadata": {
  "kernelspec": {
   "display_name": ".venv",
   "language": "python",
   "name": "python3"
  },
  "language_info": {
   "codemirror_mode": {
    "name": "ipython",
    "version": 3
   },
   "file_extension": ".py",
   "mimetype": "text/x-python",
   "name": "python",
   "nbconvert_exporter": "python",
   "pygments_lexer": "ipython3",
   "version": "3.12.2"
  }
 },
 "nbformat": 4,
 "nbformat_minor": 2
}
