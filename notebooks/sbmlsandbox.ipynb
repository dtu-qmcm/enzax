{
 "cells": [
  {
   "cell_type": "markdown",
   "metadata": {},
   "source": [
    "# sympy_to_enzax"
   ]
  },
  {
   "cell_type": "code",
   "execution_count": 122,
   "metadata": {},
   "outputs": [],
   "source": [
    "import jax\n",
    "import jax.numpy as jnp\n",
    "from jax import tree\n",
    "from enzax import sbml\n",
    "from enzax.kinetic_model import KineticModelStructure\n",
    "import sympy2jax\n",
    "import diffrax\n",
    "\n",
    "jax.config.update(\"jax_enable_x64\", True)\n",
    "\n",
    "\n",
    "model_sbml = sbml.load_sbml(\"M:/enzax_clone/tests/data/exampleode_names.xml\")\n",
    "reactions_sympy = sbml.sbml_to_sympy(model_sbml)\n",
    "sym_module = sbml.sympy_to_enzax(reactions_sympy)"
   ]
  },
  {
   "cell_type": "code",
   "execution_count": 132,
   "metadata": {},
   "outputs": [],
   "source": [
    "parameters_all = [({p.getId(): p.getValue() for p in r.getKineticLaw().getListOfParameters()}) for r in model_sbml.getListOfReactions()]\n",
    "parameters = {}\n",
    "for i in parameters_all:\n",
    "    parameters.update(i)\n",
    "compartments ={c.getId(): c.volume for c in model_sbml.getListOfCompartments()}\n",
    "species = [s.getId() for s in model_sbml.getListOfSpecies()]\n",
    "y = [s.getInitialConcentration() for s in model_sbml.getListOfSpecies()]\n",
    "\n",
    "balanced_species = {}\n",
    "unbalanced_species = {}\n",
    "for i in model_sbml.getListOfSpecies():\n",
    "    if i.boundary_condition == False:\n",
    "        balanced_species.update({i.getId(): i.getInitialConcentration()})\n",
    "    else:\n",
    "        unbalanced_species.update({i.getId(): i.getInitialConcentration()})\n",
    "\n",
    "balanced_ix = jnp.array([species.index(b) for b in balanced_species])\n",
    "unbalanced_ix = jnp.array([species.index(b) for b in unbalanced_species])\n",
    "\n",
    "para = {**parameters, **compartments, **unbalanced_species}\n",
    "conc = balanced_species\n",
    "flux_vec = jnp.array(sym_module(**para, **conc))\n",
    "\n",
    "stoichmatrix  = jnp.zeros((model_sbml.getNumSpecies(), model_sbml.getNumReactions()), dtype=jnp.float64)\n",
    "i = 0 \n",
    "for reaction in model_sbml.getListOfReactions():\n",
    "    for r in reaction.getListOfReactants():\n",
    "        stoichmatrix = stoichmatrix.at[species.index(r.getSpecies()), i].set(-int(r.getStoichiometry()))\n",
    "    for p in reaction.getListOfProducts():\n",
    "        stoichmatrix = stoichmatrix.at[species.index(p.getSpecies()), i].set(int(p.getStoichiometry()))\n",
    "    i+=1\n",
    "\n",
    "structure = KineticModelStructure(stoichmatrix, jnp.array(balanced_ix), jnp.array(unbalanced_ix))"
   ]
  },
  {
   "cell_type": "code",
   "execution_count": null,
   "metadata": {},
   "outputs": [],
   "source": [
    "def ode_system(t, y, args):\n",
    "    sym_module, para, balanced_species, structure = args\n",
    "    flux_vec = jnp.array(sym_module(**para, **dict(zip(balanced_species, y))))\n",
    "    sv = structure.S @ flux_vec\n",
    "    return sv[structure.balanced_species]"
   ]
  },
  {
   "cell_type": "code",
   "execution_count": null,
   "metadata": {},
   "outputs": [],
   "source": [
    "ode_func = diffrax.ODETerm(ode_system)\n",
    "solver = diffrax.Tsit5()\n",
    "t0, t1, dt = 0, 15, 0.1\n",
    "y0 = jnp.array([2,4])\n",
    "\n",
    "solution = diffrax.diffeqsolve(\n",
    "        ode_func,\n",
    "        solver=solver,\n",
    "        t0=t0,\n",
    "        t1=t1,\n",
    "        dt0=dt,\n",
    "        y0=y0,\n",
    "        args=(sym_module, para, balanced_species, structure),\n",
    "        saveat = diffrax.SaveAt(ts=jnp.linspace(t0, t1, 100)) # saves 100 timesteps \n",
    "    )"
   ]
  },
  {
   "cell_type": "code",
   "execution_count": 131,
   "metadata": {},
   "outputs": [
    {
     "data": {
      "image/png": "[encoded data removed]",
      "text/plain": [
       "<Figure size 640x480 with 1 Axes>"
      ]
     },
     "metadata": {},
     "output_type": "display_data"
    }
   ],
   "source": [
    "import matplotlib.pyplot as plt\n",
    "time_points = solution.ts\n",
    "species_values = solution.ys\n",
    "plt.plot(time_points, species_values)\n",
    "\n",
    "plt.xlabel('Time')\n",
    "plt.ylabel('Concentration')\n",
    "plt.ylim([-1,10])\n",
    "plt.show()"
   ]
  },
  {
   "cell_type": "markdown",
   "metadata": {},
   "source": [
    "# Tests for sympy_to_enzax"
   ]
  },
  {
   "cell_type": "code",
   "execution_count": null,
   "metadata": {},
   "outputs": [],
   "source": [
    "import jax.numpy as jnp\n",
    "from enzax import sbml\n",
    "\n",
    "## Example from sympy2jax \n",
    "# x_sym = sp.symbols(\"x_sym\")\n",
    "# cosx = 1.0 * sp.cos(x_sym)\n",
    "# sinx = 2.0 * sp.sin(x_sym)\n",
    "# mod = sympy2jax.SymbolicModule([cosx, sinx])  # PyTree of input expressions\n",
    "\n",
    "# x = jnp.array([0,1,2])\n",
    "# out = mod(x_sym=x)  # PyTree of results.\n",
    "# params = tree.leaves(mod)  # 1.0 and 2.0 are parameters.\n",
    "#                                # (Which may be trained in the usual way for Equinox.)\n",
    "\n",
    "## For exampleode\n",
    "\n",
    "# model_sbml = sbml.load_sbml(\"M:/enzax_clone/tests/data/exampleode.xml\")\n",
    "model_sbml = sbml.load_sbml(\"M:/Play-around-with-JAX/ExampleODE/ExampleODE_uniquenames.xml\")\n",
    "reactions_sympy = sbml.sbml_to_sympy(model_sbml)\n",
    "\n",
    "mod01 = sympy2jax.SymbolicModule(reactions_sympy[0])\n",
    "params01 = tree.leaves(mod01)\n",
    "print(params01)"
   ]
  },
  {
   "cell_type": "code",
   "execution_count": 102,
   "metadata": {},
   "outputs": [],
   "source": [
    "mod_all = sympy2jax.SymbolicModule(reactions_sympy)\n"
   ]
  },
  {
   "cell_type": "code",
   "execution_count": 103,
   "metadata": {},
   "outputs": [
    {
     "data": {
      "text/plain": [
       "Array(0.39683213, dtype=float64, weak_type=True)"
      ]
     },
     "execution_count": 103,
     "metadata": {},
     "output_type": "execute_result"
    }
   ],
   "source": [
    "#model_sbml.getListOfReactions()[0].getKineticLaw().getListOfParameters()\n",
    "parameters = {p.getId(): p.getValue() for p in model_sbml.getListOfReactions()[0].getKineticLaw().getListOfParameters()}\n",
    "parameters_all = [({p.getId(): p.getValue() for p in r.getKineticLaw().getListOfParameters()}) for r in model_sbml.getListOfReactions()]\n",
    "compartments ={c.getId(): c.volume for c in model_sbml.getListOfCompartments()}\n",
    "species = [s.getId() for s in model_sbml.getListOfSpecies()]\n",
    "y = initial_conditions = [s.getInitialConcentration() for s in model_sbml.getListOfSpecies()]\n",
    "\n",
    "mod01(**parameters , **compartments, **dict(zip(species, y)))"
   ]
  },
  {
   "cell_type": "code",
   "execution_count": 104,
   "metadata": {},
   "outputs": [
    {
     "name": "stdout",
     "output_type": "stream",
     "text": [
      "{'Kcat_r2b': 1.0, 'Kms_r2b': 1.0, 'Kmp_r2b': 2.0, 'L0_r2b': 1.0, 'Ki_r2b': 0.9, 'Keq_r2': 7.52405}\n"
     ]
    }
   ],
   "source": [
    "print(parameters_all[4])"
   ]
  },
  {
   "cell_type": "code",
   "execution_count": null,
   "metadata": {},
   "outputs": [
    {
     "name": "stdout",
     "output_type": "stream",
     "text": [
      "{'Kcat_r1': 0.5, 'Kms_r1': 0.5, 'Keq_r1': 25.2536, 'Kmp_r1': 1.0, 'Ki_r1': 1.0, 'Kcat_r2a': 2.0, 'Kms_r2a': 2.0, 'Kmp_r2a': 0.5, 'L0_r2a': 1.0, 'Ka_r2a': 0.3, 'Keq_r2': 7.52405, 'Kcat_r3': 2.0, 'Kms_r3': 0.5, 'Keq_r3': 2.24172, 'Kmp_r3': 2.0, 'Kcat_r4': 1.0, 'Kms_r4': 1.0, 'Keq_r4': 7.52405, 'Kmp_r4': 3.0, 'Kcat_r2b': 1.0, 'Kms_r2b': 1.0, 'Kmp_r2b': 2.0, 'L0_r2b': 1.0, 'Ki_r2b': 0.9}\n"
     ]
    }
   ],
   "source": [
    "l1=parameters_all\n",
    "d1={}\n",
    "for i in l1:\n",
    "    d1.update(i)\n",
    "print (d1)"
   ]
  },
  {
   "cell_type": "code",
   "execution_count": 120,
   "metadata": {},
   "outputs": [],
   "source": [
    "flux_vec = jnp.array(mod_all(**d1, **compartments, **dict(zip(species, y))))"
   ]
  },
  {
   "cell_type": "code",
   "execution_count": null,
   "metadata": {},
   "outputs": [],
   "source": [
    "stoichmatrix  = jnp.zeros((model_sbml.getNumSpecies(), model_sbml.getNumReactions()), dtype=int)\n",
    "i = 0 \n",
    "for reaction in model_sbml.getListOfReactions():\n",
    "    for r in reaction.getListOfReactants():\n",
    "        stoichmatrix = stoichmatrix.at[species.index(r.getSpecies()), i].set(-int(r.getStoichiometry()))\n",
    "    for p in reaction.getListOfProducts():\n",
    "        stoichmatrix = stoichmatrix.at[species.index(p.getSpecies()), i].set(int(p.getStoichiometry()))\n",
    "    i+=1"
   ]
  },
  {
   "cell_type": "code",
   "execution_count": 122,
   "metadata": {},
   "outputs": [
    {
     "data": {
      "text/plain": [
       "Array([-3.79104723, -1.51567735,  2.10161235,  3.20511223,  0.        ,\n",
       "        0.        ,  0.        ,  0.        ,  0.        ], dtype=float64)"
      ]
     },
     "execution_count": 122,
     "metadata": {},
     "output_type": "execute_result"
    }
   ],
   "source": [
    "jnp.dot(stoichmatrix, flux_vec)"
   ]
  }
 ],
 "metadata": {
  "kernelspec": {
   "display_name": ".venv",
   "language": "python",
   "name": "python3"
  },
  "language_info": {
   "codemirror_mode": {
    "name": "ipython",
    "version": 3
   },
   "file_extension": ".py",
   "mimetype": "text/x-python",
   "name": "python",
   "nbconvert_exporter": "python",
   "pygments_lexer": "ipython3",
   "version": "3.12.2"
  }
 },
 "nbformat": 4,
 "nbformat_minor": 2
}
